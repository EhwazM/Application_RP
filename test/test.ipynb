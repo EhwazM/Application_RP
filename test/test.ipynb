{
 "cells": [
  {
   "cell_type": "code",
   "execution_count": 8,
   "id": "bc1f924b",
   "metadata": {},
   "outputs": [],
   "source": [
    "import serial\n",
    "from serial.tools import list_ports\n",
    "from bokeh.plotting import figure as bk_figure\n",
    "from bokeh.models import Range1d"
   ]
  },
  {
   "cell_type": "code",
   "execution_count": null,
   "id": "57bbfb25",
   "metadata": {},
   "outputs": [],
   "source": [
    "ports = list_ports.comports()\n",
    "\n",
    "available_ports = [f\"{port.device}\" for port in ports]\n",
    "\n",
    "available_ports"
   ]
  },
  {
   "cell_type": "code",
   "execution_count": 9,
   "id": "ef1f5b31",
   "metadata": {},
   "outputs": [],
   "source": [
    "p = bk_figure(title=\"Signal\",\n",
    "          sizing_mode='stretch_both',\n",
    "          x_axis_label='Time (s)',\n",
    "          y_range=Range1d(-0.5, 3.5)\n",
    ")"
   ]
  },
  {
   "cell_type": "code",
   "execution_count": 10,
   "id": "b9a5e929",
   "metadata": {},
   "outputs": [],
   "source": [
    "p.y_range.start = 5"
   ]
  },
  {
   "cell_type": "code",
   "execution_count": 11,
   "id": "b57cff34",
   "metadata": {},
   "outputs": [
    {
     "data": {
      "text/plain": [
       "5"
      ]
     },
     "execution_count": 11,
     "metadata": {},
     "output_type": "execute_result"
    }
   ],
   "source": [
    "p.y_range.start"
   ]
  }
 ],
 "metadata": {
  "kernelspec": {
   "display_name": ".venv",
   "language": "python",
   "name": "python3"
  },
  "language_info": {
   "codemirror_mode": {
    "name": "ipython",
    "version": 3
   },
   "file_extension": ".py",
   "mimetype": "text/x-python",
   "name": "python",
   "nbconvert_exporter": "python",
   "pygments_lexer": "ipython3",
   "version": "3.13.5"
  }
 },
 "nbformat": 4,
 "nbformat_minor": 5
}
